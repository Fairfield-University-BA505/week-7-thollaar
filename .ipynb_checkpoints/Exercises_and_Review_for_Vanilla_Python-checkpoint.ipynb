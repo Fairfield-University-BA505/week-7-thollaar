{
 "cells": [
  {
   "cell_type": "markdown",
   "metadata": {},
   "source": [
    "# Python Review & Exercises\n",
    "\n",
    "These exercise questions are developed to help you review concepts and skills we covered in the first half of the class, where we prepare you to get started with following topics:\n",
    "\n",
    "- Variables, Statements, Expressions\n",
    "- Operators and Calculations\n",
    "- If statements\n",
    "- Function definitions and calls\n",
    "- Iterations (at least for loops)\n",
    "- strings\n",
    "- lists\n",
    "- dictionaries\n",
    "\n",
    "Remember that following questions require __more than one topics__ from above."
   ]
  },
  {
   "cell_type": "markdown",
   "metadata": {},
   "source": [
    "## Ground Rules\n",
    "\n",
    "Below rules define how this works:\n",
    "\n",
    "1. Please complete these questions in class, and if needed, after class, no later than __10/27__. You should submit the completed notebook back via Github Classroom.\n",
    "2. This is neither an exam nor an assignment - I will __NOT__ grade these. This is for you to test whether you are ready to move onto the next part of the class.\n",
    "3. Please __work with your peers__. You can learn much more if you work actively with your peers, by teaching each other. If you have not started doing so, this may be the perfect opportunity.\n",
    "4. Be __active__ in this class. I want to hear your opinions/soluions to problems below. So please speak up! This is a fair learning environment.\n",
    "5. Do __not__ try to copy code from others, include the Internet. The purpose is not to complete these questions, rather to test where your strengths and weaknesses are. Do not __fake__ it!\n",
    "\n",
    "Okay, rules are clear, let's start!"
   ]
  },
  {
   "cell_type": "markdown",
   "metadata": {},
   "source": [
    "## Q1. Code Explanation Problem\n",
    "\n",
    "#### Common Characters between Two Strings\n",
    "\n",
    "I was asked to develop a function (`common_char()`) to find out what common charaters are shared between two strings. I have provided two solutions to the problem. \n",
    "\n",
    "1. In solution 1 use a _one-liner_ for loop to solve the problem. Please write out the function in multiple lines (the regular for loop with an if statement) to make sure you understand how this works;\n",
    "2. In solution 2 I used something you have never seen in this class (__python sets__). In real world you may come across codes that you have never seen. Use Google to help you understand how _sets_ work in Python (__python sets__ might be a good search term for starters). Write you understanding in comments."
   ]
  },
  {
   "cell_type": "code",
   "execution_count": 1,
   "metadata": {
    "collapsed": false
   },
   "outputs": [
    {
     "data": {
      "text/plain": [
       "['a', 'b']"
      ]
     },
     "execution_count": 1,
     "metadata": {},
     "output_type": "execute_result"
    }
   ],
   "source": [
    "s1 = 'abc'\n",
    "s2 = 'bad'\n",
    "\n",
    "# solution 1\n",
    "def common_char1(s1, s2):\n",
    "    return [c1 for c1 in s1 if c1 in s2]\n",
    "    \n",
    "common_char1(s1, s2)"
   ]
  },
  {
   "cell_type": "code",
   "execution_count": 2,
   "metadata": {},
   "outputs": [
    {
     "data": {
      "text/plain": [
       "['b', 'a']"
      ]
     },
     "execution_count": 2,
     "metadata": {},
     "output_type": "execute_result"
    }
   ],
   "source": [
    "# inclass redo the previous codeblock with for loop and if statement: \n",
    "# Goal: find characters of string in 1 list in another list\n",
    "def common_char3(x, y):    \n",
    "    # create empty list res_lst\n",
    "    res_lst = []\n",
    "\n",
    "    #iterate through list 's1'\n",
    "    for c in y:\n",
    "        #IF element in list 's1' is in list 's2'\n",
    "        if c in x:\n",
    "            #add it to the list 'res_lst'\n",
    "            res_lst.append(c)\n",
    "        # ELSE do nothing\n",
    "        else:\n",
    "            pass\n",
    "    return res_lst\n",
    "\n",
    "#show results\n",
    "#example: common_char3('xyz', 'xab')\n",
    "common_char3(s1, s2)    \n",
    "\n",
    "# question: will order matter of s1, s2 => this particular case order doesn't matter\n",
    "# question: will it matter if you dont put s1 s2 as required arguments => should have arguments , you want to reuse functions\n",
    "# note teacher: if you change s2 into s3 in loop, no error => be aware!\n",
    "# note teacher: default value in functions => example: common_char3(x, y=0)\n",
    "# 'return' means it ends the code, its an action, code stops (always comment out return)\n",
    "# "
   ]
  },
  {
   "cell_type": "code",
   "execution_count": 3,
   "metadata": {},
   "outputs": [
    {
     "data": {
      "text/plain": [
       "['a', 'b']"
      ]
     },
     "execution_count": 3,
     "metadata": {},
     "output_type": "execute_result"
    }
   ],
   "source": [
    "# Teacher comment: 'Google this yourself' caus of lack of time - assignment call (called by teacher)\n",
    "def common_char2(x, y):\n",
    "    return list(set(s1) & set(s2))\n",
    "\n",
    "common_char2(x=s1, y=s2)"
   ]
  },
  {
   "cell_type": "markdown",
   "metadata": {},
   "source": [
    "## Q2. Coding Problem\n",
    "\n",
    "Given any list of integers, write a function (`sort_even()`) to sort any even numbers in a sub-list, leave all odd numbers unsorted in another sub-list.\n",
    "\n",
    "#### Example:\n",
    "- sort_even([4, 3, 2, 1, 6]) --> [[2, 4, 6], [3, 1]]\n",
    "- sort_even([4, 2]) --> [[2, 4], []]\n",
    "- sort_even([3, 1] --> [[], [3, 1]]\n",
    "- sort_even([]) --> []\n",
    "\n",
    "#### HINTS:\n",
    "\n",
    "- Clearly we want to treat odd and even numbers separately - maybe two lists to hold the two parts?\n",
    "- You may want to go through the list using a loop."
   ]
  },
  {
   "cell_type": "code",
   "execution_count": 4,
   "metadata": {
    "collapsed": true
   },
   "outputs": [
    {
     "data": {
      "text/plain": [
       "[[2, 6, 8], [9, 7, 5, 1]]"
      ]
     },
     "execution_count": 4,
     "metadata": {},
     "output_type": "execute_result"
    }
   ],
   "source": [
    "# Write your code here\n",
    "# inclass\n",
    "# tip: always start code from the middle and write out your thought process\n",
    "# example input: lst = [9,8,7,6,5,2,1]\n",
    "\n",
    "def sort_even_list(lst):\n",
    "    lst_even = []\n",
    "    lst_odd = []\n",
    "\n",
    "    for x in lst:\n",
    "        if x % 2 == 0:\n",
    "            lst_even.append(x)\n",
    "        else:\n",
    "            lst_odd.append(x)\n",
    "\n",
    "    lst_even.sort()\n",
    "    return([lst_even, lst_odd])\n",
    "    #print(lst_even)\n",
    "    #print(lst_odd)\n",
    "    #print([lst_even],[lst_odd])\n",
    "    \n",
    "sort_even_list([9,8,7,6,5,2,1])    "
   ]
  },
  {
   "cell_type": "markdown",
   "metadata": {},
   "source": [
    "## Q3. Coding Problem\n",
    "\n",
    "Given a list of integers, write a function(`pair_func()`) that pairs the first number in an array with the last, the second number with the second to last, etc.\n",
    "\n",
    "#### HINTS: \n",
    "- If the list has an __odd length__, __repeat__ the middle element twice for the last pair.\n",
    "- Return an empty list if the input is an empty list.\n",
    "- Note that the result is a list of lists - so the returned `result_lst` should contain sub lists called `pairs`.\n",
    "\n",
    "#### Examples:\n",
    "- pair_func([1, 2, 3, 4, 5, 6, 7]) ➞ [[1, 7], [2, 6], [3, 5], [4, 4]]\n",
    "- pair_func([1, 2, 3, 4, 5, 6]) ➞ [[1, 6], [2, 5], [3, 4]]\n",
    "- pair_func([5, 9, 8, 1, 2]) ➞ [[5, 2], [9, 1], [8, 8]]\n",
    "- pair_func([]) ➞ []"
   ]
  },
  {
   "cell_type": "code",
   "execution_count": 5,
   "metadata": {
    "collapsed": true
   },
   "outputs": [
    {
     "ename": "SyntaxError",
     "evalue": "invalid syntax (<ipython-input-5-9e6bc8fb80d6>, line 16)",
     "output_type": "error",
     "traceback": [
      "\u001b[0;36m  File \u001b[0;32m\"<ipython-input-5-9e6bc8fb80d6>\"\u001b[0;36m, line \u001b[0;32m16\u001b[0m\n\u001b[0;31m    print(temp_list)\u001b[0m\n\u001b[0m        ^\u001b[0m\n\u001b[0;31mSyntaxError\u001b[0m\u001b[0;31m:\u001b[0m invalid syntax\n"
     ]
    }
   ],
   "source": [
    "# wrong code - first try (see following codeblock for correct code)\n",
    "# write you code here\n",
    "\n",
    "lst_integers = [9,8,7,6,5,54,3,21,1]\n",
    "result_list = []\n",
    "temp_list = []\n",
    "\n",
    "#IF list is empty return empty list\n",
    "if len(lst_integers) == 0: \n",
    "    print([])\n",
    "else:\n",
    "    for i in lst_integers:\n",
    "        #make pairs of last and 1st of list\n",
    "        temp_list = lst_integers(i)+(lst_integers(len(lst_integers)-1)\n",
    "        \n",
    "        print(temp_list)\n",
    "        #result_list = result_list.append(temp_list)\n",
    "        #IF list has odd length\n",
    "        #if (len(lst_integers)%2) != 0: \n",
    "        #middle element is pair\n",
    "\n",
    "    \n",
    "#"
   ]
  },
  {
   "cell_type": "code",
   "execution_count": null,
   "metadata": {},
   "outputs": [],
   "source": [
    "#teacher code #\n",
    "# own code added\n",
    "lst=[1,2,3,4,5,6,7,8]\n",
    "ele1=lst[0]\n",
    "ele2=lst[-1]\n",
    "results = []\n",
    "\n",
    "for i in range(0, int(len(lst)/2)):\n",
    "    if i == len(lst)/2 and len(lst)/2 != 0: \n",
    "        print(lst[i], lst[i])\n",
    "    else:\n",
    "        print(lst[i], lst[-i-1])\n",
    "        print() #adds newline\n",
    "     #make it work for even numbers           \n",
    "        "
   ]
  },
  {
   "cell_type": "code",
   "execution_count": null,
   "metadata": {},
   "outputs": [],
   "source": [
    "# Professor Huntley's code\n",
    "# general tip: set is not a list, set cant have duplicates, example keys in dictionary\n",
    "# tip for this question: int rounds down\n",
    "\n",
    "def pair_func2(lst):\n",
    "    #print(int(len(lst)/2 + 0.5))\n",
    "    pair_lst = []\n",
    "    for i in range(int(len(lst)/2 + 0.5)):\n",
    "        pair_lst += [ [lst[i],lst[-(i+1)]] ]\n",
    "    return(pair_lst)\n",
    "\n",
    "print(pair_func2([1, 2, 3, 4, 5, 6, 7]))\n",
    "print(pair_func2([1, 2, 3, 4, 5, 6]))\n",
    "print(pair_func2([5, 9, 8, 1, 2]))\n",
    "print(pair_func2([]))"
   ]
  },
  {
   "cell_type": "code",
   "execution_count": null,
   "metadata": {},
   "outputs": [],
   "source": [
    "# part of the one-liner huntley wrote\n",
    "#def pair_func(lst)\n",
    "#    return [[lst[i], lst[-(i+1)]]"
   ]
  },
  {
   "cell_type": "markdown",
   "metadata": {},
   "source": [
    "## Q4. Coding Problem\n",
    "\n",
    "You work for a manufacturer, and have been asked to write a function (`profit_calc`) to calculate the _total profit_ made on the sales of a product.\n",
    "\n",
    "- You need to create a dictionary containing the cost price per unit (in dollars), sell price per unit (in dollars), and the starting inventory. The values in the dictionary should be __user inputs__.\n",
    "\n",
    "- Return the total profit made, rounded to the _nearest cent_ (2 digits after the decimal point). Assume __all of the inventory has been sold__.\n",
    "\n",
    "- Please insert the result from the function back to the original dictionary, use the key as `'profit'`.\n",
    "\n",
    "#### Example Dictionary:\n",
    "```python\n",
    "prod_dict = {\n",
    "  \"cost_price\": 32.67,\n",
    "  \"sell_price\": 45.00,\n",
    "  \"inventory\": 1200\n",
    "}\n",
    "```\n",
    "\n",
    "\n",
    "#### Example Output:\n",
    "```python\n",
    "# profit_calc(prod_dict) =  14796\n",
    "\n",
    "prod_dict = {\n",
    "  \"cost_price\": 32.67,\n",
    "  \"sell_price\": 45.00,\n",
    "  \"inventory\": 1200,\n",
    "  \"profit\": 14796\n",
    "}\n",
    "```\n",
    "\n",
    "#### HINT: \n",
    "$profit = (v2 - v1) \\times v3$"
   ]
  },
  {
   "cell_type": "code",
   "execution_count": null,
   "metadata": {
    "collapsed": false
   },
   "outputs": [],
   "source": [
    "# Author: Anthonie Hollaar\n",
    "# 10-28-2019\n",
    "# Goal: calculate the profit from the number of items sold times the sales_price minus the cost_price\n",
    "\n",
    "#define function profit with default values equal to zero for the three inputs\n",
    "def profit_calc(cost_price=0, sell_price=0, inventory=0):\n",
    "\n",
    "    #create empty dictionary \n",
    "    prod_dict = {}\n",
    "    \n",
    "    # add to dictionary 'prod_dict': key & value of cost_price\n",
    "    prod_dict[\"cost_price\"] = cost_price\n",
    "    # add to dictionary 'prod_dict':  key & value of sell_price\n",
    "    prod_dict[\"sell_price\"] = sell_price\n",
    "    # add to dictionary 'prod_dict':  key & value of inventory\n",
    "    prod_dict[\"inventory\"] = inventory\n",
    "    \n",
    "    try:\n",
    "        # Formula for profit whereby (sales price - cost price) multiplied by the number of items in inventory with assumption that everything gets sold\n",
    "        profit = (prod_dict[\"sell_price\"] - prod_dict[\"cost_price\"]) * prod_dict[\"inventory\"]\n",
    "        \n",
    "        # format the profit with 2 decimals and leading with a dollar sign\n",
    "        prod_dict[\"profit\"] = '$%.2f' % profit\n",
    "        \n",
    "        # show the resulting dictionary including the profit value (AND including cost_price, sell_price, inventory values)\n",
    "        return(prod_dict)\n",
    "    except:\n",
    "        print('error caused by invalid value(s) inputted for either cost_price, sell_priec or inventory')"
   ]
  },
  {
   "cell_type": "code",
   "execution_count": null,
   "metadata": {},
   "outputs": [],
   "source": [
    "#test function with expected result of (10-1)*10 = 90\n",
    "profit_calc(cost_price=1, sell_price=10,inventory=10)"
   ]
  },
  {
   "cell_type": "code",
   "execution_count": null,
   "metadata": {},
   "outputs": [],
   "source": [
    "#test function with expected result of at least 3 or more decimals which are rounded to two decimals\n",
    "profit_calc(cost_price=1.987, sell_price=10.521, inventory=10)"
   ]
  },
  {
   "cell_type": "code",
   "execution_count": null,
   "metadata": {},
   "outputs": [],
   "source": [
    "#test function given by teacher with expected result: 14796\n",
    "profit_calc(cost_price=32.67, sell_price=45.00, inventory=1200)"
   ]
  },
  {
   "cell_type": "markdown",
   "metadata": {},
   "source": [
    "## Q5. Coding Problem\n",
    "\n",
    "You are tasked to write a function (`findall_lst()`) to find __all__ the indexes of the searched item in a list. \n",
    "\n",
    "We know we can use `.find()` method to search a list, but it will only return the __first__ index not __all__ of them.\n",
    "\n",
    "#### Examples: \n",
    "- findall_lst(([\"a\", \"a\", \"b\", \"a\", \"b\", \"a\"], \"a\") ➞ [0, 1, 3, 5]\n",
    "- findall_lst([1, 5, 5, 2, 7], 7) ➞ [4]\n",
    "- findall_lst([1, 5, 5, 2, 7], 8) ➞ []"
   ]
  },
  {
   "cell_type": "code",
   "execution_count": null,
   "metadata": {},
   "outputs": [],
   "source": [
    "# Anthonie Hollaar\n",
    "# Date: 10-28-2019\n",
    "# create variables to hold the list for search as `my_lst`\n",
    "my_lst = [\"a\", \"a\", \"b\", \"a\", \"b\", \"a\"]\n",
    "# and to hold the element to search as `my_search`\n",
    "my_search = \"a\""
   ]
  },
  {
   "cell_type": "code",
   "execution_count": null,
   "metadata": {
    "collapsed": true
   },
   "outputs": [],
   "source": [
    "# since the results are lists\n",
    "# initialize an empty list `search_results` to hold results\n",
    "search_results = []"
   ]
  },
  {
   "cell_type": "code",
   "execution_count": null,
   "metadata": {
    "collapsed": true
   },
   "outputs": [],
   "source": [
    "# since we need 'all' of something, we need a loop\n",
    "# iterate through `my_lst` to search for `my_search`\n",
    "# remember to retrive the index(es) from the list\n",
    "# update the `search_results` when you have a hit (found) - you should consider using `.append()`\n",
    "for i in range(len(my_lst)):\n",
    "    if my_lst[i] == my_search:\n",
    "        search_results.append(i)  \n",
    "    else:\n",
    "        pass\n",
    "print(search_results)"
   ]
  },
  {
   "cell_type": "code",
   "execution_count": null,
   "metadata": {
    "collapsed": true
   },
   "outputs": [],
   "source": [
    "# Put everything together as a function\n",
    "# Goal: function to find from a list a string and return its index(es) as output (whereby 0 equals the first index item)\n",
    "# Author: Anthonie Hollaar\n",
    "# 10-28-2019\n",
    "\n",
    "# Define the function with two required arguments namely a list and a search string\n",
    "def findall_lst(my_lst=[], my_search=\"\"):\n",
    "    # create an empty list called 'search_results'\n",
    "    search_results = []\n",
    "    \n",
    "    # try to run code below, if an error go to 'except:' and stop running code indented below 'try:'\n",
    "    try:\n",
    "        # iterate through each element in the list 'my_lst' with index i\n",
    "        for i in range(len(my_lst)):\n",
    "            # if the value for the element with index i equals the value that needs to be found called 'my_search'\n",
    "            if my_lst[i] == my_search:\n",
    "                append the index i to a new list called 'search_results'\n",
    "                search_results.append(i)\n",
    "            # else do nothing    \n",
    "            else:\n",
    "                pass\n",
    "        # show the new list search_results which contains all the indexes of the searched value from the list    \n",
    "        return(search_results)\n",
    "    # if an error occured show the user a message\n",
    "    except:\n",
    "        print('error caused by invalid input, please enter a list as the first argument and the string to be searched as the second argument')"
   ]
  },
  {
   "cell_type": "code",
   "execution_count": null,
   "metadata": {},
   "outputs": [],
   "source": [
    "# test function with strings searching for string that exists within list\n",
    "findall_lst([\"a\", \"a\", \"b\", \"a\", \"b\", \"a\"], \"a\")"
   ]
  },
  {
   "cell_type": "code",
   "execution_count": null,
   "metadata": {},
   "outputs": [],
   "source": [
    "# test function with integers - searching for integer that exists within list\n",
    "findall_lst([1, 5, 5, 2, 7], 7)"
   ]
  },
  {
   "cell_type": "code",
   "execution_count": null,
   "metadata": {},
   "outputs": [],
   "source": [
    "# test function with integers - searching for integers that do not exist within list\n",
    "findall_lst([1, 5, 5, 2, 7], 8)"
   ]
  },
  {
   "cell_type": "code",
   "execution_count": null,
   "metadata": {},
   "outputs": [],
   "source": [
    "# test function with invalid input (test try/except commands)\n",
    "findall_lst(1,1)"
   ]
  },
  {
   "cell_type": "markdown",
   "metadata": {},
   "source": [
    "## Q6. Coding Problem\n",
    "\n",
    "### The Karaca's Encryption Algorithm:\n",
    "\n",
    "Make a function (`karaca_encoder`) that encrypts a given input with these steps:\n",
    "\n",
    "- Input: `'Apple'` # you should test that all inputs are strings\n",
    "- Step 1: set everything to lowercase and reverse the string `'elppa'`, code snippet below can help with reversing a string:\n",
    "```python\n",
    "s = 'abc'\n",
    "''.join(reversed(s))  # 'cba'\n",
    "```\n",
    "\n",
    "- Step 2: replace all vowels using following table, so the input becomes `'1lpp0'`:\n",
    "\n",
    "| vowel | code |\n",
    "| ----- | ---- |\n",
    "| a | 0 |\n",
    "| e | 1 |\n",
    "| i | 2 |\n",
    "| o | 3 |\n",
    "| u | 4 |\n",
    "\n",
    "\n",
    "- Step 3: add `'aca'` to the end of the string, so the string becomes `'1lpp0aca'`\n",
    "- Voila! Return this string `'1lpp0aca'` as the encoded.\n",
    "\n",
    "#### Examples:\n",
    "- karaca_encoder(\"banana\") ➞ \"0n0n0baca\"\n",
    "- karaca_encoder(\"karaca\") ➞ \"0c0r0kaca\"\n",
    "- karaca_encoder(\"burak\") ➞ \"k0r3baca\"\n",
    "- karaca_encoder(\"alpaca\") ➞ \"0c0pl0aca\""
   ]
  },
  {
   "cell_type": "code",
   "execution_count": 6,
   "metadata": {
    "collapsed": true
   },
   "outputs": [],
   "source": [
    "# Author: Anthonie Hollaar\n",
    "# 10-28-2019\n",
    "# Goal: Code a string into lowercase, reversed, trailing with 'aca' and replace vowels (a, e, i, o, u) with (0,1,2,3,4) respectively and output result\n",
    "\n",
    "# Define a function for karaca_encoder\n",
    "def karaca_encoder(user_input):\n",
    "    \n",
    "    # Create an empty new list called 'new_list'\n",
    "    new_list = []\n",
    "\n",
    "    # test if user_input contains a string\n",
    "    if type(user_input) == str:\n",
    "        \n",
    "        # make the string all lowercase\n",
    "        user_input = user_input.lower()\n",
    "        \n",
    "        # reverse the string\n",
    "        user_input = ''.join(reversed(user_input))\n",
    "\n",
    "        # loop through each character of string and replace vowel with code (0,1,2,3,4) IF vowel equals (a, e, i, o, u) ELSE do nothing\n",
    "        for c in user_input:\n",
    "            if c == 'a':\n",
    "                new_list.append(\"0\")\n",
    "            elif c == 'e':\n",
    "                new_list.append(\"1\")\n",
    "            elif c == 'i':\n",
    "                new_list.append(\"2\")\n",
    "            elif c == 'o':\n",
    "                new_list.append(\"3\")\n",
    "            elif c == 'u':\n",
    "                new_list.append(\"4\")\n",
    "            # ELSE dont code character and append it to the new list called 'new_list'\n",
    "            else:\n",
    "                new_list.append(c)\n",
    "\n",
    "        # add string 'aca' to end of the reversed coded lowercase string\n",
    "        new_list.append('aca')\n",
    "\n",
    "        # print the new list with coded characters as a single string again with .join method\n",
    "        return(''.join(new_list))\n",
    "\n",
    "    else:\n",
    "        # show user message that incorrect string has been entered\n",
    "        print('please enter a valid string')"
   ]
  },
  {
   "cell_type": "code",
   "execution_count": 7,
   "metadata": {},
   "outputs": [
    {
     "data": {
      "text/plain": [
       "'1lpp0aca'"
      ]
     },
     "execution_count": 7,
     "metadata": {},
     "output_type": "execute_result"
    }
   ],
   "source": [
    "# test code with the string: 'Apple' because it contains upper case character\n",
    "karaca_encoder('Apple')"
   ]
  },
  {
   "cell_type": "code",
   "execution_count": 374,
   "metadata": {},
   "outputs": [
    {
     "name": "stdout",
     "output_type": "stream",
     "text": [
      "0n0n0baca\n",
      "0c0r0kaca\n",
      "k0r4baca\n",
      "0c0pl0aca\n"
     ]
    }
   ],
   "source": [
    "# Test function with more examples given\n",
    "## karaca_encoder(\"banana\") ➞ \"0n0n0baca\"\n",
    "## karaca_encoder(\"karaca\") ➞ \"0c0r0kaca\"\n",
    "## karaca_encoder(\"burak\") ➞ \"k0r3baca\"\n",
    "## karaca_encoder(\"alpaca\") ➞ \"0c0pl0aca\"\n",
    "\n",
    "print(karaca_encoder(\"banana\"))\n",
    "print(karaca_encoder(\"karaca\"))\n",
    "print(karaca_encoder(\"burak\"))\n",
    "print(karaca_encoder(\"alpaca\"))"
   ]
  },
  {
   "cell_type": "markdown",
   "metadata": {},
   "source": [
    "# Q7. Coding Problem\n",
    "## Closed Brackets Detector - Extra Problem\n",
    "_if you want a little tease, this is a real interview question_. This problem will require you to put everything you learned so far in this class together.\n",
    "\n",
    "You have noticed that Jupyter can help you detect unclosed parentheses, for instance:\n",
    "```python\n",
    "list(str(type(x for x in range(l))) \n",
    "```\n",
    "will give you an error.\n",
    "\n",
    "In this question, you are going to replicate a simpler example of it.\n",
    "\n",
    "Your task in this exercise is as follows (two functions, one embed in another):\n",
    "\n",
    "1. Create a function that generates a string with N opening brackets (`[`) and N closing brackets (`]`), in some arbitrary order.\n",
    "2. Create a function that determines whether the generated string is balanced; that is, whether it consists entirely of pairs of opening/closing brackets (in that order), none of which mis-nest.\n",
    "\n",
    "Requirements:\n",
    "* Your test sequence of brackets need to be (`2,20`) digits long.\n",
    "* You need to generate at least `8` sequences \n",
    "\n",
    "Expected Output:\n",
    "```\n",
    "   []        OK   ][        NOT OK\n",
    "   [][]      OK   ][][      NOT OK\n",
    "   [[][]]    OK   []][[]    NOT OK\n",
    "```"
   ]
  },
  {
   "cell_type": "code",
   "execution_count": 580,
   "metadata": {
    "collapsed": true
   },
   "outputs": [],
   "source": [
    "# Author: Anthonie Hollaar\n",
    "# 10-28-2019 \n",
    "\n",
    "# Write your code here\n",
    "\n",
    "# Goal: \n",
    "    ##  1. Create a function that generates a string with N opening brackets ([) and N closing brackets (]), in some arbitrary order.\n",
    "    ##  2. Create a function that determines whether the generated string is balanced; that is, whether it consists entirely of pairs of opening/closing brackets (in that order), none of which mis-nest.\n",
    "    ### Requirements:\n",
    "    #### Your test sequence of brackets need to be (2,20) digits long.\n",
    "    #### You need to generate at least 8 sequences\n",
    "\n",
    "# define a function that generates a string with N opening/ N closing brackets in arbitrary order\n",
    "def gen_str_brackets(sequence=8):\n",
    "    import random\n",
    "\n",
    "    for x in range(sequence): \n",
    "        \n",
    "        random_int_digits = random.randint(2,20)\n",
    "        random_zero_one = random.randint(0,1)\n",
    "        list_brackets = []\n",
    "\n",
    "        for i in range(random_int_digits):\n",
    "            random_zero_one = random.randint(0,1)\n",
    "            if random_zero_one == 0:\n",
    "                list_brackets.append('[')\n",
    "            elif random_zero_one == 1:\n",
    "                list_brackets.append(']')\n",
    "        \n",
    "        output_brackets = ''.join(list_brackets)\n",
    "        print(output_brackets)"
   ]
  },
  {
   "cell_type": "code",
   "execution_count": 581,
   "metadata": {},
   "outputs": [
    {
     "name": "stdout",
     "output_type": "stream",
     "text": [
      "]][[][[]\n",
      "[]]]\n",
      "[][]\n",
      "]][[[[[][]][[]]][]\n",
      "][\n",
      "][[[][][\n",
      "[][[[[]]]]\n",
      "[][\n"
     ]
    }
   ],
   "source": [
    "# test function\n",
    "gen_str_brackets(sequence=8)"
   ]
  },
  {
   "cell_type": "code",
   "execution_count": 582,
   "metadata": {},
   "outputs": [
    {
     "name": "stdout",
     "output_type": "stream",
     "text": [
      "OK\n"
     ]
    }
   ],
   "source": [
    "# Author: Anthonie Hollaar\n",
    "# 10-28-2019 \n",
    "# 2nd part for checking if brackets are nested correctly\n",
    "# I start off with several examples to check a list of brackets and compare if they are balanced\n",
    "\n",
    "#examples used:\n",
    "#list_brackets = ['[','[',']','[','[','[','[']\n",
    "#list_brackets = ['[',']',']'] \n",
    "#list_brackets = ['[',']', '[',']']\n",
    "#list_brackets = ['[',']']\n",
    "#list_brackets = ['[','[',']',']']\n",
    "\n",
    "#create empty lists for valid bracket pairs and non-valid bracket pairs\n",
    "list_ok = []\n",
    "list_not_ok = []\n",
    "\n",
    "#print(list_not_ok)\n",
    "#print(len(list_not_ok))\n",
    "#print(len(list_brackets))\n",
    "#print(type(list_brackets))\n",
    "#print(list_brackets)\n",
    "#print(list_brackets[0])\n",
    "\n",
    "# IF consequetive brackets are all opposite and starts with opening bracket '[' => then list is OK\n",
    "if  i in range(len(list_brackets)-1):\n",
    "        list_brackets[i] != list_brackets[i+1] and list_brackets[0] == '['\n",
    "        list_ok.append(i+1)\n",
    "else:\n",
    "    # Loop through half of the list since it will compare to other half in list the corresponding brackets (like a mirror, first with last bracket, 2nd with 2nd to last etc.)\n",
    "    for i in range(round(len(list_brackets)/2)):\n",
    "        # IF i'd bracket is unequal to number i: (length of the list minus 1 minus i) bracket, THEN they are opposite like so: [[[]]] and this is OK, for example bracket with index 0 should be unequal to bracket with index 2 (3-1-0)\n",
    "        if list_brackets[i] != list_brackets[len(list_brackets)-1-i] and list_brackets[0] == '[':  \n",
    "            list_ok.append(i+1)\n",
    "        else:\n",
    "            list_not_ok.append(i+1)\n",
    "\n",
    "# print NOT OK if not all bracket pairs in list are correct, meaning list_not_ok bigger than zero\n",
    "if len(list_not_ok) > 0:\n",
    "    print('NOT OK')\n",
    "# print OK if all bracket pairs in the list are correct (meaning starts with [ and other is opposite ] and length of list of brackets is even) \n",
    "elif len(list_not_ok) == 0 and len(list_brackets) % 2 == 0:\n",
    "    print('OK')\n",
    "else:\n",
    "    print('NOT OK')"
   ]
  },
  {
   "cell_type": "code",
   "execution_count": 1168,
   "metadata": {},
   "outputs": [],
   "source": [
    "# Create a function from previous code and expanded conditionals in loop after testing\n",
    "def check_brackets(list_brackets=[]):\n",
    "    \n",
    "    #create empty lists for valid bracket pairs and non-valid bracket pairs\n",
    "    list_ok = []\n",
    "    list_not_ok = []\n",
    "    \n",
    "    #counter equal to zero (start counting from first index number = 0)\n",
    "    i = 0\n",
    "    \n",
    "    # if list is even continue with code else return 'NOT OK'\n",
    "    if len(list_brackets) % 2 == 0:\n",
    "        # Iterate through list of brackets up untill 2nd to last item, because 2nd-to-last item compares to last item so last item doesn't need to be added to range)\n",
    "        for i in range(len(list_brackets)-1):\n",
    "            # IF brackets are all consequetive opposite from one another and starts with opening bracket '[' and list is even => then list is OK, such as [][][][][][][] \n",
    "            if list_brackets[i] != list_brackets[i+1] and list_brackets[0] == '[' and len(list_brackets) % 2 == 0:\n",
    "                list_ok.append(i+1)\n",
    "            else:\n",
    "                # Loop through half of the list since it will compare to other half in list the corresponding brackets (like a mirror, first with last bracket, 2nd with 2nd to last etc.)\n",
    "                for i in range(round(len(list_brackets)/2)):\n",
    "                    # if middle bracket is closing bracket, middle+1 is opening bracket, then middle-1 should be opening bracket and middle+2 should be closing bracket (example that should be NOT OK: ['[',']',']','[','[',']']\n",
    "                    if list_brackets[i] != list_brackets[len(list_brackets)-1-i] and  list_brackets[0] == '[' and list_brackets[(round((len(list_brackets)/2))+1)] == '[' and list_brackets[(round((len(list_brackets)/2))+2)] == ']' :  \n",
    "                        list_not_ok.append(i+1)\n",
    "                    # IF i'd bracket is unequal to number i: (length of the list minus 1 minus i) bracket, THEN they are opposite like so: [[[]]] and this is OK, for example bracket with index 0 should be unequal to bracket with index 2 (3-1-0)\n",
    "                    elif list_brackets[i] != list_brackets[len(list_brackets)-1-i] and list_brackets[0] == '[':  \n",
    "                        list_ok.append(i+1)\n",
    "                    # if middle bracket is closing bracket, middle+1 is opening bracket, then middle-1 should be opening bracket and middle+2 should be closing bracket (example that should be NOT OK: ['[',']',']','[','[',']']\n",
    "                    elif list_brackets[i] != list_brackets[len(list_brackets)-1-i] and  list_brackets[0] == '[' and list_brackets[(round((len(list_brackets)/2))+1)] == '[' and list_brackets[(round((len(list_brackets)/2))+2)] == ']' :  \n",
    "                        list_not_ok.append(i+1)\n",
    "\n",
    "                    # - mixed pattern:[[][]] & [[[][][]]] AND elements opposite from eachother (mirror) are opposite brackets (1st/last, etc.) AND first bracket is opening bracket AND middle bracket is a closing bracket and middle+1 bracket is opening bracket\n",
    "                    elif list_brackets[i] != list_brackets[len(list_brackets)-1-i] and list_brackets[0] == '[' and list_brackets[len(list_brackets)/2] == ']' and list_brackets[(len(list_brackets)/2)+1] == '[':  \n",
    "                        list_ok.append(i+1)  \n",
    "\n",
    "                    else:\n",
    "                        list_not_ok.append(i+1)\n",
    "\n",
    "        # print NOT OK if not all bracket pairs in list are correct, meaning list_not_ok bigger than zero\n",
    "        if len(list_not_ok) > 0:\n",
    "            return('NOT OK')\n",
    "        # print OK if all bracket pairs in the list are correct (meaning starts with [ and other is opposite ] and length of list of brackets is even) \n",
    "        elif len(list_not_ok) == 0 and len(list_brackets) % 2 == 0:\n",
    "            return('OK')\n",
    "    else:\n",
    "        return('NOT OK')"
   ]
  },
  {
   "cell_type": "code",
   "execution_count": 1169,
   "metadata": {},
   "outputs": [
    {
     "data": {
      "text/plain": [
       "'OK'"
      ]
     },
     "execution_count": 1169,
     "metadata": {},
     "output_type": "execute_result"
    }
   ],
   "source": [
    "# test function with brackets which are correct\n",
    "check_brackets(['[',']'])\n",
    "# pattern: first element and last element are opposite and length list is even\n",
    "# should be 'OK'"
   ]
  },
  {
   "cell_type": "code",
   "execution_count": 1170,
   "metadata": {},
   "outputs": [
    {
     "data": {
      "text/plain": [
       "'OK'"
      ]
     },
     "execution_count": 1170,
     "metadata": {},
     "output_type": "execute_result"
    }
   ],
   "source": [
    "check_brackets(['[','[',']','[',']',']'])\n",
    "# pattern: mixed, elements are opposite and starting with opening brackets besides (length list / 2 = 3) 3rd element and ((length list/2)+1) 4th element and length list is even\n",
    "# should be 'OK'"
   ]
  },
  {
   "cell_type": "code",
   "execution_count": 1171,
   "metadata": {},
   "outputs": [
    {
     "data": {
      "text/plain": [
       "'OK'"
      ]
     },
     "execution_count": 1171,
     "metadata": {},
     "output_type": "execute_result"
    }
   ],
   "source": [
    "check_brackets(['[',']','[',']'])\n",
    "# pattern: consequetive different brackets starting with [ and length list is even\n",
    "# should be 'OK'"
   ]
  },
  {
   "cell_type": "code",
   "execution_count": 1172,
   "metadata": {},
   "outputs": [
    {
     "data": {
      "text/plain": [
       "'NOT OK'"
      ]
     },
     "execution_count": 1172,
     "metadata": {},
     "output_type": "execute_result"
    }
   ],
   "source": [
    "# test function with brackets which are not correctly placed\n",
    "check_brackets(['[','[',']',']','[','[','['])\n",
    "# pattern: first and last element is different and 2nd + 2nd to last is different etc.\n",
    "# should be 'NOT OK'"
   ]
  },
  {
   "cell_type": "code",
   "execution_count": 1173,
   "metadata": {},
   "outputs": [
    {
     "data": {
      "text/plain": [
       "'NOT OK'"
      ]
     },
     "execution_count": 1173,
     "metadata": {},
     "output_type": "execute_result"
    }
   ],
   "source": [
    "check_brackets([']','['])\n",
    "# pattern: starts with a closing bracket\n",
    "# should be 'NOT OK'"
   ]
  },
  {
   "cell_type": "code",
   "execution_count": 1174,
   "metadata": {},
   "outputs": [
    {
     "data": {
      "text/plain": [
       "'NOT OK'"
      ]
     },
     "execution_count": 1174,
     "metadata": {},
     "output_type": "execute_result"
    }
   ],
   "source": [
    "check_brackets(['[',']',']','[','[',']'])\n",
    "# pattern: if middle bracket is closing bracket, middle+1 is opening bracket, then middle-1 should be opening bracket and middle+2 should be closing bracket\n",
    "# should be 'NOT OK'"
   ]
  },
  {
   "cell_type": "code",
   "execution_count": 1175,
   "metadata": {},
   "outputs": [],
   "source": [
    "# combine two functions made earlier\n",
    "\n",
    "# define a function that generates a string with N opening/ N closing brackets in arbitrary order\n",
    "def gen_str_brackets(sequence=8):\n",
    "    import random\n",
    "    \n",
    "    for x in range(sequence): \n",
    "        random_int_digits = random.randint(2,20)\n",
    "        random_zero_one = random.randint(0,1)\n",
    "        list_brackets = []\n",
    "    \n",
    "        for i in range(random_int_digits):\n",
    "            random_zero_one = random.randint(0,1)\n",
    "            if random_zero_one == 0:\n",
    "                list_brackets.append('[')\n",
    "            elif random_zero_one == 1:\n",
    "                list_brackets.append(']')\n",
    "        #re-use function made earlier check_brackets, either 'OK' if nested correctly or 'NOT OK' if brackets incorrectly nested\n",
    "        # use an indent for OK and NOT OK based on the max of 20 characters the list_bracket can be +1 for additional space\n",
    "        # print each list of random brackets between 2-20 characters and random opening/closing brackets with statement if nested brackets are OK or NOT OK\n",
    "        print(''.join(list_brackets), (20-len(list_brackets)+1)*\" \" ,(check_brackets(list_brackets)))"
   ]
  },
  {
   "cell_type": "code",
   "execution_count": 1181,
   "metadata": {},
   "outputs": [
    {
     "name": "stdout",
     "output_type": "stream",
     "text": [
      "[]]                    NOT OK\n",
      "[[                     NOT OK\n",
      "[]]]][][][             NOT OK\n",
      "[][][][][]]]           NOT OK\n",
      "[]]][]][]][][][[[[     NOT OK\n",
      "]]]]]]][][[[]]][[[     NOT OK\n",
      "]][][][]][[][][[       NOT OK\n",
      "]][[][][]][[][[[[]     NOT OK\n",
      "][[][[][][[[[][[]]     NOT OK\n",
      "[]][][][[[]][][[[][    NOT OK\n",
      "[]][[][[[              NOT OK\n",
      "]][]]][[]][[[][[[]][   NOT OK\n",
      "][[[[]][[][            NOT OK\n",
      "]][[]]][[][]][[[       NOT OK\n",
      "]][][[]]               NOT OK\n",
      "][[][[[]][][[][[[[][   NOT OK\n",
      "[][]]][][][][[[][]]    NOT OK\n",
      "[[[]                   NOT OK\n",
      "][[]                   NOT OK\n",
      "[]]]][[[[[[[[[][       NOT OK\n",
      "][[[]]][[]]]][]        NOT OK\n",
      "[[[[[][                NOT OK\n",
      "][][[                  NOT OK\n",
      "[[]][[[[]]][[[]][][[   NOT OK\n",
      "[[][[]][][][[[[]       NOT OK\n",
      "[][]                   OK\n",
      "][][][[[][[[[[[[]][[   NOT OK\n",
      "]]][][[]]][            NOT OK\n",
      "][[[][                 NOT OK\n",
      "][                     NOT OK\n",
      "[[]][[][]][][[         NOT OK\n",
      "[[[]]]                 OK\n",
      "[][][                  NOT OK\n",
      "[][[]]][[              NOT OK\n",
      "[]][][                 NOT OK\n",
      "[[                     NOT OK\n",
      "]][][[]][]][[[]]]      NOT OK\n",
      "]][]]]][]]]][[[]       NOT OK\n",
      "][[][[[[][[[[[][][[    NOT OK\n",
      "]]][]]]                NOT OK\n",
      "][][[                  NOT OK\n",
      "[][                    NOT OK\n",
      "[][][]]]][[[           NOT OK\n",
      "[]][[][[[[             NOT OK\n",
      "]]][]][[[]][[[[[]]     NOT OK\n",
      "]][]]]][[][]][[[       NOT OK\n",
      "[][[][[[]][[][]][[[    NOT OK\n",
      "]]                     NOT OK\n",
      "][[]                   NOT OK\n",
      "[][[[                  NOT OK\n",
      "][[]                   NOT OK\n",
      "[][][[][[]             NOT OK\n",
      "][]]]]]][]]][[         NOT OK\n",
      "[[                     NOT OK\n",
      "[[[[[[][[              NOT OK\n",
      "][[][[][[]             NOT OK\n",
      "[]]                    NOT OK\n",
      "[][][[]                NOT OK\n",
      "][[]]]][[[][           NOT OK\n",
      "[[[][[[[]]]][][]][     NOT OK\n",
      "]][[[[[[[[[[[[]][]     NOT OK\n",
      "[[]]][[]]]][[          NOT OK\n",
      "][]]]][][[]]           NOT OK\n",
      "[]][                   NOT OK\n",
      "]][][][[[]             NOT OK\n",
      "[][[]]][[[][           NOT OK\n",
      "[[][][]][]][           NOT OK\n",
      "]]]]]                  NOT OK\n",
      "]][[][][[              NOT OK\n",
      "[[[][]][]]]]           NOT OK\n",
      "[[]][][[][][           NOT OK\n",
      "[[[[][]]]][]]][[       NOT OK\n",
      "[[]]]]]]]][[]]]]][     NOT OK\n",
      "][][                   NOT OK\n",
      "][]][[][[][]][][[      NOT OK\n",
      "][][[][]]              NOT OK\n",
      "[]]]][]][][[[[[][]     NOT OK\n",
      "[][[][[]][][]]         NOT OK\n",
      "][][[[]]]][]           NOT OK\n",
      "]][][[][][[[][[][][    NOT OK\n",
      "[[[[]]]                NOT OK\n",
      "]][[[]][[]]            NOT OK\n",
      "[[]]][                 NOT OK\n",
      "][                     NOT OK\n",
      "[][][[][[[][[][[       NOT OK\n",
      "[[[[][]]]]][][][[[     NOT OK\n",
      "]]                     NOT OK\n",
      "[]]]]]]]][             NOT OK\n",
      "][][]]                 NOT OK\n",
      "[[]][][[               NOT OK\n",
      "[[][[]]]][]][[[]]][    NOT OK\n",
      "]][]][]                NOT OK\n",
      "[][]][[][][]]][[[[]]   NOT OK\n",
      "[[[[][[]               NOT OK\n",
      "[][][[                 NOT OK\n",
      "[]][[][[[[[[           NOT OK\n",
      "]][][][][[[[]          NOT OK\n",
      "]]                     NOT OK\n",
      "[]][[]]]               NOT OK\n",
      "[][][                  NOT OK\n"
     ]
    }
   ],
   "source": [
    "gen_str_brackets(sequence=100)"
   ]
  },
  {
   "cell_type": "code",
   "execution_count": null,
   "metadata": {},
   "outputs": [],
   "source": []
  },
  {
   "cell_type": "code",
   "execution_count": null,
   "metadata": {},
   "outputs": [],
   "source": []
  }
 ],
 "metadata": {
  "kernelspec": {
   "display_name": "Python 3",
   "language": "python",
   "name": "python3"
  },
  "language_info": {
   "codemirror_mode": {
    "name": "ipython",
    "version": 3
   },
   "file_extension": ".py",
   "mimetype": "text/x-python",
   "name": "python",
   "nbconvert_exporter": "python",
   "pygments_lexer": "ipython3",
   "version": "3.6.7"
  }
 },
 "nbformat": 4,
 "nbformat_minor": 2
}
